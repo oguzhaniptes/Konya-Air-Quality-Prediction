{
 "cells": [
  {
   "cell_type": "code",
   "execution_count": 325,
   "metadata": {},
   "outputs": [],
   "source": [
    "import pandas as pd\n",
    "import seaborn as sns\n",
    "import numpy as np\n",
    "\n",
    "veri = pd.read_csv(\"airquality.csv\")\n",
    "df = veri.copy()"
   ]
  },
  {
   "cell_type": "code",
   "execution_count": 326,
   "metadata": {},
   "outputs": [
    {
     "data": {
      "text/html": [
       "<div>\n",
       "<style scoped>\n",
       "    .dataframe tbody tr th:only-of-type {\n",
       "        vertical-align: middle;\n",
       "    }\n",
       "\n",
       "    .dataframe tbody tr th {\n",
       "        vertical-align: top;\n",
       "    }\n",
       "\n",
       "    .dataframe thead th {\n",
       "        text-align: right;\n",
       "    }\n",
       "</style>\n",
       "<table border=\"1\" class=\"dataframe\">\n",
       "  <thead>\n",
       "    <tr style=\"text-align: right;\">\n",
       "      <th></th>\n",
       "      <th>Date</th>\n",
       "      <th>PM10 ( µg/m3 )</th>\n",
       "      <th>PM 2.5 ( µg/m3 )</th>\n",
       "      <th>NOX ( µg/m3 )</th>\n",
       "    </tr>\n",
       "  </thead>\n",
       "  <tbody>\n",
       "    <tr>\n",
       "      <th>0</th>\n",
       "      <td>01.11.2023 00:00:56</td>\n",
       "      <td>140.91</td>\n",
       "      <td>32.46</td>\n",
       "      <td>181.59</td>\n",
       "    </tr>\n",
       "    <tr>\n",
       "      <th>1</th>\n",
       "      <td>01.11.2023 01:00:56</td>\n",
       "      <td>130.73</td>\n",
       "      <td>31.16</td>\n",
       "      <td>79.33</td>\n",
       "    </tr>\n",
       "    <tr>\n",
       "      <th>2</th>\n",
       "      <td>01.11.2023 02:00:56</td>\n",
       "      <td>111.21</td>\n",
       "      <td>27.37</td>\n",
       "      <td>72.99</td>\n",
       "    </tr>\n",
       "    <tr>\n",
       "      <th>3</th>\n",
       "      <td>01.11.2023 03:00:56</td>\n",
       "      <td>90.39</td>\n",
       "      <td>21.52</td>\n",
       "      <td>46.58</td>\n",
       "    </tr>\n",
       "    <tr>\n",
       "      <th>4</th>\n",
       "      <td>01.11.2023 04:00:56</td>\n",
       "      <td>70.66</td>\n",
       "      <td>17.71</td>\n",
       "      <td>36.43</td>\n",
       "    </tr>\n",
       "  </tbody>\n",
       "</table>\n",
       "</div>"
      ],
      "text/plain": [
       "                  Date  PM10 ( µg/m3 )  PM 2.5 ( µg/m3 )  NOX ( µg/m3 )\n",
       "0  01.11.2023 00:00:56          140.91             32.46         181.59\n",
       "1  01.11.2023 01:00:56          130.73             31.16          79.33\n",
       "2  01.11.2023 02:00:56          111.21             27.37          72.99\n",
       "3  01.11.2023 03:00:56           90.39             21.52          46.58\n",
       "4  01.11.2023 04:00:56           70.66             17.71          36.43"
      ]
     },
     "execution_count": 326,
     "metadata": {},
     "output_type": "execute_result"
    }
   ],
   "source": [
    "df.head()"
   ]
  },
  {
   "cell_type": "code",
   "execution_count": 327,
   "metadata": {},
   "outputs": [
    {
     "name": "stdout",
     "output_type": "stream",
     "text": [
      "<class 'pandas.core.frame.DataFrame'>\n",
      "RangeIndex: 697 entries, 0 to 696\n",
      "Data columns (total 4 columns):\n",
      " #   Column            Non-Null Count  Dtype  \n",
      "---  ------            --------------  -----  \n",
      " 0   Date              697 non-null    object \n",
      " 1   PM10 ( µg/m3 )    697 non-null    float64\n",
      " 2   PM 2.5 ( µg/m3 )  697 non-null    float64\n",
      " 3   NOX ( µg/m3 )     697 non-null    float64\n",
      "dtypes: float64(3), object(1)\n",
      "memory usage: 21.9+ KB\n"
     ]
    }
   ],
   "source": [
    "df.info()\n",
    "# tip ciktisi alir"
   ]
  },
  {
   "cell_type": "code",
   "execution_count": 328,
   "metadata": {},
   "outputs": [
    {
     "data": {
      "text/plain": [
       "(697, 4)"
      ]
     },
     "execution_count": 328,
     "metadata": {},
     "output_type": "execute_result"
    }
   ],
   "source": [
    "df.shape\n",
    "# satir sutun sayisi\n"
   ]
  },
  {
   "cell_type": "code",
   "execution_count": 329,
   "metadata": {},
   "outputs": [
    {
     "data": {
      "text/plain": [
       "Date                697\n",
       "PM10 ( µg/m3 )      545\n",
       "PM 2.5 ( µg/m3 )    545\n",
       "NOX ( µg/m3 )       605\n",
       "dtype: int64"
      ]
     },
     "execution_count": 329,
     "metadata": {},
     "output_type": "execute_result"
    }
   ],
   "source": [
    "df.nunique()"
   ]
  },
  {
   "cell_type": "code",
   "execution_count": 330,
   "metadata": {},
   "outputs": [
    {
     "data": {
      "text/html": [
       "<div>\n",
       "<style scoped>\n",
       "    .dataframe tbody tr th:only-of-type {\n",
       "        vertical-align: middle;\n",
       "    }\n",
       "\n",
       "    .dataframe tbody tr th {\n",
       "        vertical-align: top;\n",
       "    }\n",
       "\n",
       "    .dataframe thead th {\n",
       "        text-align: right;\n",
       "    }\n",
       "</style>\n",
       "<table border=\"1\" class=\"dataframe\">\n",
       "  <thead>\n",
       "    <tr style=\"text-align: right;\">\n",
       "      <th></th>\n",
       "      <th>PM10 ( µg/m3 )</th>\n",
       "      <th>PM 2.5 ( µg/m3 )</th>\n",
       "      <th>NOX ( µg/m3 )</th>\n",
       "    </tr>\n",
       "  </thead>\n",
       "  <tbody>\n",
       "    <tr>\n",
       "      <th>count</th>\n",
       "      <td>697.000000</td>\n",
       "      <td>697.000000</td>\n",
       "      <td>697.000000</td>\n",
       "    </tr>\n",
       "    <tr>\n",
       "      <th>mean</th>\n",
       "      <td>32.804189</td>\n",
       "      <td>10.589828</td>\n",
       "      <td>28.544232</td>\n",
       "    </tr>\n",
       "    <tr>\n",
       "      <th>std</th>\n",
       "      <td>32.505337</td>\n",
       "      <td>7.563946</td>\n",
       "      <td>29.766267</td>\n",
       "    </tr>\n",
       "    <tr>\n",
       "      <th>min</th>\n",
       "      <td>0.000000</td>\n",
       "      <td>0.000000</td>\n",
       "      <td>0.000000</td>\n",
       "    </tr>\n",
       "    <tr>\n",
       "      <th>25%</th>\n",
       "      <td>8.730000</td>\n",
       "      <td>4.820000</td>\n",
       "      <td>6.840000</td>\n",
       "    </tr>\n",
       "    <tr>\n",
       "      <th>50%</th>\n",
       "      <td>24.320000</td>\n",
       "      <td>9.880000</td>\n",
       "      <td>16.710000</td>\n",
       "    </tr>\n",
       "    <tr>\n",
       "      <th>75%</th>\n",
       "      <td>47.370000</td>\n",
       "      <td>15.530000</td>\n",
       "      <td>44.470000</td>\n",
       "    </tr>\n",
       "    <tr>\n",
       "      <th>max</th>\n",
       "      <td>154.330000</td>\n",
       "      <td>37.470000</td>\n",
       "      <td>181.590000</td>\n",
       "    </tr>\n",
       "  </tbody>\n",
       "</table>\n",
       "</div>"
      ],
      "text/plain": [
       "       PM10 ( µg/m3 )  PM 2.5 ( µg/m3 )  NOX ( µg/m3 )\n",
       "count      697.000000        697.000000     697.000000\n",
       "mean        32.804189         10.589828      28.544232\n",
       "std         32.505337          7.563946      29.766267\n",
       "min          0.000000          0.000000       0.000000\n",
       "25%          8.730000          4.820000       6.840000\n",
       "50%         24.320000          9.880000      16.710000\n",
       "75%         47.370000         15.530000      44.470000\n",
       "max        154.330000         37.470000     181.590000"
      ]
     },
     "execution_count": 330,
     "metadata": {},
     "output_type": "execute_result"
    }
   ],
   "source": [
    "df.describe()"
   ]
  },
  {
   "cell_type": "code",
   "execution_count": 331,
   "metadata": {},
   "outputs": [
    {
     "data": {
      "text/html": [
       "<div>\n",
       "<style scoped>\n",
       "    .dataframe tbody tr th:only-of-type {\n",
       "        vertical-align: middle;\n",
       "    }\n",
       "\n",
       "    .dataframe tbody tr th {\n",
       "        vertical-align: top;\n",
       "    }\n",
       "\n",
       "    .dataframe thead th {\n",
       "        text-align: right;\n",
       "    }\n",
       "</style>\n",
       "<table border=\"1\" class=\"dataframe\">\n",
       "  <thead>\n",
       "    <tr style=\"text-align: right;\">\n",
       "      <th></th>\n",
       "      <th>PM10 ( µg/m3 )</th>\n",
       "      <th>PM 2.5 ( µg/m3 )</th>\n",
       "      <th>NOX ( µg/m3 )</th>\n",
       "    </tr>\n",
       "  </thead>\n",
       "  <tbody>\n",
       "    <tr>\n",
       "      <th>PM10 ( µg/m3 )</th>\n",
       "      <td>1.000000</td>\n",
       "      <td>0.736599</td>\n",
       "      <td>0.385530</td>\n",
       "    </tr>\n",
       "    <tr>\n",
       "      <th>PM 2.5 ( µg/m3 )</th>\n",
       "      <td>0.736599</td>\n",
       "      <td>1.000000</td>\n",
       "      <td>0.583064</td>\n",
       "    </tr>\n",
       "    <tr>\n",
       "      <th>NOX ( µg/m3 )</th>\n",
       "      <td>0.385530</td>\n",
       "      <td>0.583064</td>\n",
       "      <td>1.000000</td>\n",
       "    </tr>\n",
       "  </tbody>\n",
       "</table>\n",
       "</div>"
      ],
      "text/plain": [
       "                  PM10 ( µg/m3 )  PM 2.5 ( µg/m3 )  NOX ( µg/m3 )\n",
       "PM10 ( µg/m3 )          1.000000          0.736599       0.385530\n",
       "PM 2.5 ( µg/m3 )        0.736599          1.000000       0.583064\n",
       "NOX ( µg/m3 )           0.385530          0.583064       1.000000"
      ]
     },
     "execution_count": 331,
     "metadata": {},
     "output_type": "execute_result"
    }
   ],
   "source": [
    "df[[\"PM10 ( µg/m3 )\",\"PM 2.5 ( µg/m3 )\",\"NOX ( µg/m3 )\"]].corr()"
   ]
  },
  {
   "cell_type": "code",
   "execution_count": 332,
   "metadata": {},
   "outputs": [
    {
     "data": {
      "text/html": [
       "<div>\n",
       "<style scoped>\n",
       "    .dataframe tbody tr th:only-of-type {\n",
       "        vertical-align: middle;\n",
       "    }\n",
       "\n",
       "    .dataframe tbody tr th {\n",
       "        vertical-align: top;\n",
       "    }\n",
       "\n",
       "    .dataframe thead th {\n",
       "        text-align: right;\n",
       "    }\n",
       "</style>\n",
       "<table border=\"1\" class=\"dataframe\">\n",
       "  <thead>\n",
       "    <tr style=\"text-align: right;\">\n",
       "      <th></th>\n",
       "      <th>Date</th>\n",
       "      <th>PM10 ( µg/m3 )</th>\n",
       "      <th>PM 2.5 ( µg/m3 )</th>\n",
       "      <th>NOX ( µg/m3 )</th>\n",
       "    </tr>\n",
       "  </thead>\n",
       "  <tbody>\n",
       "    <tr>\n",
       "      <th>0</th>\n",
       "      <td>False</td>\n",
       "      <td>False</td>\n",
       "      <td>False</td>\n",
       "      <td>False</td>\n",
       "    </tr>\n",
       "    <tr>\n",
       "      <th>1</th>\n",
       "      <td>False</td>\n",
       "      <td>False</td>\n",
       "      <td>False</td>\n",
       "      <td>False</td>\n",
       "    </tr>\n",
       "    <tr>\n",
       "      <th>2</th>\n",
       "      <td>False</td>\n",
       "      <td>False</td>\n",
       "      <td>False</td>\n",
       "      <td>False</td>\n",
       "    </tr>\n",
       "    <tr>\n",
       "      <th>3</th>\n",
       "      <td>False</td>\n",
       "      <td>False</td>\n",
       "      <td>False</td>\n",
       "      <td>False</td>\n",
       "    </tr>\n",
       "    <tr>\n",
       "      <th>4</th>\n",
       "      <td>False</td>\n",
       "      <td>False</td>\n",
       "      <td>False</td>\n",
       "      <td>False</td>\n",
       "    </tr>\n",
       "    <tr>\n",
       "      <th>...</th>\n",
       "      <td>...</td>\n",
       "      <td>...</td>\n",
       "      <td>...</td>\n",
       "      <td>...</td>\n",
       "    </tr>\n",
       "    <tr>\n",
       "      <th>692</th>\n",
       "      <td>False</td>\n",
       "      <td>False</td>\n",
       "      <td>False</td>\n",
       "      <td>False</td>\n",
       "    </tr>\n",
       "    <tr>\n",
       "      <th>693</th>\n",
       "      <td>False</td>\n",
       "      <td>False</td>\n",
       "      <td>False</td>\n",
       "      <td>False</td>\n",
       "    </tr>\n",
       "    <tr>\n",
       "      <th>694</th>\n",
       "      <td>False</td>\n",
       "      <td>False</td>\n",
       "      <td>False</td>\n",
       "      <td>False</td>\n",
       "    </tr>\n",
       "    <tr>\n",
       "      <th>695</th>\n",
       "      <td>False</td>\n",
       "      <td>False</td>\n",
       "      <td>False</td>\n",
       "      <td>False</td>\n",
       "    </tr>\n",
       "    <tr>\n",
       "      <th>696</th>\n",
       "      <td>False</td>\n",
       "      <td>False</td>\n",
       "      <td>False</td>\n",
       "      <td>False</td>\n",
       "    </tr>\n",
       "  </tbody>\n",
       "</table>\n",
       "<p>697 rows × 4 columns</p>\n",
       "</div>"
      ],
      "text/plain": [
       "      Date  PM10 ( µg/m3 )  PM 2.5 ( µg/m3 )  NOX ( µg/m3 )\n",
       "0    False           False             False          False\n",
       "1    False           False             False          False\n",
       "2    False           False             False          False\n",
       "3    False           False             False          False\n",
       "4    False           False             False          False\n",
       "..     ...             ...               ...            ...\n",
       "692  False           False             False          False\n",
       "693  False           False             False          False\n",
       "694  False           False             False          False\n",
       "695  False           False             False          False\n",
       "696  False           False             False          False\n",
       "\n",
       "[697 rows x 4 columns]"
      ]
     },
     "execution_count": 332,
     "metadata": {},
     "output_type": "execute_result"
    }
   ],
   "source": [
    "df.isnull()"
   ]
  },
  {
   "cell_type": "code",
   "execution_count": 333,
   "metadata": {},
   "outputs": [
    {
     "data": {
      "text/plain": [
       "Date                0\n",
       "PM10 ( µg/m3 )      0\n",
       "PM 2.5 ( µg/m3 )    0\n",
       "NOX ( µg/m3 )       0\n",
       "dtype: int64"
      ]
     },
     "execution_count": 333,
     "metadata": {},
     "output_type": "execute_result"
    }
   ],
   "source": [
    "df.isnull().sum()"
   ]
  },
  {
   "cell_type": "code",
   "execution_count": 334,
   "metadata": {},
   "outputs": [
    {
     "data": {
      "text/html": [
       "<div>\n",
       "<style scoped>\n",
       "    .dataframe tbody tr th:only-of-type {\n",
       "        vertical-align: middle;\n",
       "    }\n",
       "\n",
       "    .dataframe tbody tr th {\n",
       "        vertical-align: top;\n",
       "    }\n",
       "\n",
       "    .dataframe thead th {\n",
       "        text-align: right;\n",
       "    }\n",
       "</style>\n",
       "<table border=\"1\" class=\"dataframe\">\n",
       "  <thead>\n",
       "    <tr style=\"text-align: right;\">\n",
       "      <th></th>\n",
       "      <th>Date</th>\n",
       "      <th>PM10 ( µg/m3 )</th>\n",
       "      <th>PM 2.5 ( µg/m3 )</th>\n",
       "      <th>NOX ( µg/m3 )</th>\n",
       "    </tr>\n",
       "  </thead>\n",
       "  <tbody>\n",
       "  </tbody>\n",
       "</table>\n",
       "</div>"
      ],
      "text/plain": [
       "Empty DataFrame\n",
       "Columns: [Date, PM10 ( µg/m3 ), PM 2.5 ( µg/m3 ), NOX ( µg/m3 )]\n",
       "Index: []"
      ]
     },
     "execution_count": 334,
     "metadata": {},
     "output_type": "execute_result"
    }
   ],
   "source": [
    "df[df.duplicated()]"
   ]
  },
  {
   "cell_type": "code",
   "execution_count": 335,
   "metadata": {},
   "outputs": [
    {
     "data": {
      "text/plain": [
       "<Axes: >"
      ]
     },
     "execution_count": 335,
     "metadata": {},
     "output_type": "execute_result"
    },
    {
     "data": {
      "image/png": "[encoded data removed]",
      "text/plain": [
       "<Figure size 640x480 with 1 Axes>"
      ]
     },
     "metadata": {},
     "output_type": "display_data"
    }
   ],
   "source": [
    "sns.heatmap(df.isnull(), cbar=False)"
   ]
  },
  {
   "cell_type": "code",
   "execution_count": 336,
   "metadata": {},
   "outputs": [
    {
     "name": "stdout",
     "output_type": "stream",
     "text": [
      "136\n"
     ]
    }
   ],
   "source": [
    "count = 0;\n",
    "for i in df[\"PM10 ( µg/m3 )\"] :\n",
    "  if i == 0.0 :\n",
    "      count+=1\n",
    "      \n",
    "print(count)"
   ]
  },
  {
   "cell_type": "code",
   "execution_count": 337,
   "metadata": {},
   "outputs": [
    {
     "name": "stdout",
     "output_type": "stream",
     "text": [
      "40.756720142602504\n",
      "11.982321428571428\n",
      "30.893369565217395\n"
     ]
    }
   ],
   "source": [
    "pm10_means = df[df[\"PM10 ( µg/m3 )\"] != 0.0][\"PM10 ( µg/m3 )\"].mean()\n",
    "pm25_means = df[df[\"PM 2.5 ( µg/m3 )\"] != 0.0][\"PM 2.5 ( µg/m3 )\"].mean()\n",
    "nox_means = df[df[\"NOX ( µg/m3 )\"] != 0.0][\"NOX ( µg/m3 )\"].mean()\n",
    "print(pm10_means)\n",
    "print(pm25_means)\n",
    "print(nox_means)"
   ]
  },
  {
   "cell_type": "code",
   "execution_count": 338,
   "metadata": {},
   "outputs": [],
   "source": [
    "df[\"PM10 ( µg/m3 )\"] = np.where(df[\"PM10 ( µg/m3 )\"] == 0.0, pm10_means, df[\"PM10 ( µg/m3 )\"])\n",
    "df[\"PM 2.5 ( µg/m3 )\"] = np.where(df[\"PM 2.5 ( µg/m3 )\"] == 0.0, pm25_means, df[\"PM 2.5 ( µg/m3 )\"])\n",
    "df[\"NOX ( µg/m3 )\"] = np.where(df[\"NOX ( µg/m3 )\"] == 0.0, nox_means, df[\"NOX ( µg/m3 )\"])\n",
    "\n",
    "# 0 olan degerleri 0 olmayan degerlerin ortalamasiyla degistirildi\n",
    "\n"
   ]
  },
  {
   "cell_type": "code",
   "execution_count": 339,
   "metadata": {},
   "outputs": [
    {
     "data": {
      "text/html": [
       "<div>\n",
       "<style scoped>\n",
       "    .dataframe tbody tr th:only-of-type {\n",
       "        vertical-align: middle;\n",
       "    }\n",
       "\n",
       "    .dataframe tbody tr th {\n",
       "        vertical-align: top;\n",
       "    }\n",
       "\n",
       "    .dataframe thead th {\n",
       "        text-align: right;\n",
       "    }\n",
       "</style>\n",
       "<table border=\"1\" class=\"dataframe\">\n",
       "  <thead>\n",
       "    <tr style=\"text-align: right;\">\n",
       "      <th></th>\n",
       "      <th>PM10 ( µg/m3 )</th>\n",
       "      <th>PM 2.5 ( µg/m3 )</th>\n",
       "      <th>NOX ( µg/m3 )</th>\n",
       "    </tr>\n",
       "  </thead>\n",
       "  <tbody>\n",
       "    <tr>\n",
       "      <th>count</th>\n",
       "      <td>697.000000</td>\n",
       "      <td>697.000000</td>\n",
       "      <td>697.00000</td>\n",
       "    </tr>\n",
       "    <tr>\n",
       "      <th>mean</th>\n",
       "      <td>40.756720</td>\n",
       "      <td>11.982321</td>\n",
       "      <td>30.89337</td>\n",
       "    </tr>\n",
       "    <tr>\n",
       "      <th>std</th>\n",
       "      <td>28.201876</td>\n",
       "      <td>6.515046</td>\n",
       "      <td>28.61608</td>\n",
       "    </tr>\n",
       "    <tr>\n",
       "      <th>min</th>\n",
       "      <td>0.610000</td>\n",
       "      <td>0.130000</td>\n",
       "      <td>0.56000</td>\n",
       "    </tr>\n",
       "    <tr>\n",
       "      <th>25%</th>\n",
       "      <td>19.270000</td>\n",
       "      <td>7.130000</td>\n",
       "      <td>8.92000</td>\n",
       "    </tr>\n",
       "    <tr>\n",
       "      <th>50%</th>\n",
       "      <td>40.756720</td>\n",
       "      <td>11.982321</td>\n",
       "      <td>22.56000</td>\n",
       "    </tr>\n",
       "    <tr>\n",
       "      <th>75%</th>\n",
       "      <td>47.370000</td>\n",
       "      <td>15.530000</td>\n",
       "      <td>44.47000</td>\n",
       "    </tr>\n",
       "    <tr>\n",
       "      <th>max</th>\n",
       "      <td>154.330000</td>\n",
       "      <td>37.470000</td>\n",
       "      <td>181.59000</td>\n",
       "    </tr>\n",
       "  </tbody>\n",
       "</table>\n",
       "</div>"
      ],
      "text/plain": [
       "       PM10 ( µg/m3 )  PM 2.5 ( µg/m3 )  NOX ( µg/m3 )\n",
       "count      697.000000        697.000000      697.00000\n",
       "mean        40.756720         11.982321       30.89337\n",
       "std         28.201876          6.515046       28.61608\n",
       "min          0.610000          0.130000        0.56000\n",
       "25%         19.270000          7.130000        8.92000\n",
       "50%         40.756720         11.982321       22.56000\n",
       "75%         47.370000         15.530000       44.47000\n",
       "max        154.330000         37.470000      181.59000"
      ]
     },
     "execution_count": 339,
     "metadata": {},
     "output_type": "execute_result"
    }
   ],
   "source": [
    "df.describe()"
   ]
  }
 ],
 "metadata": {
  "kernelspec": {
   "display_name": ".venv",
   "language": "python",
   "name": "python3"
  },
  "language_info": {
   "codemirror_mode": {
    "name": "ipython",
    "version": 3
   },
   "file_extension": ".py",
   "mimetype": "text/x-python",
   "name": "python",
   "nbconvert_exporter": "python",
   "pygments_lexer": "ipython3",
   "version": "3.11.5"
  }
 },
 "nbformat": 4,
 "nbformat_minor": 2
}
